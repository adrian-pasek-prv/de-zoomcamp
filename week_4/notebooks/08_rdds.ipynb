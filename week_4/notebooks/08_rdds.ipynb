{
 "cells": [
  {
   "cell_type": "code",
   "execution_count": 1,
   "id": "1e2c4c35",
   "metadata": {},
   "outputs": [
    {
     "name": "stderr",
     "output_type": "stream",
     "text": [
      "Setting default log level to \"WARN\".\n",
      "To adjust logging level use sc.setLogLevel(newLevel). For SparkR, use setLogLevel(newLevel).\n"
     ]
    },
    {
     "name": "stdout",
     "output_type": "stream",
     "text": [
      "23/02/28 06:27:48 WARN NativeCodeLoader: Unable to load native-hadoop library for your platform... using builtin-java classes where applicable\n",
      "23/02/28 06:27:49 WARN Utils: Service 'SparkUI' could not bind on port 4040. Attempting port 4041.\n"
     ]
    }
   ],
   "source": [
    "import pyspark\n",
    "from pyspark.sql import SparkSession\n",
    "\n",
    "spark = SparkSession.builder \\\n",
    "    .master(\"local[*]\") \\\n",
    "    .appName('test') \\\n",
    "    .getOrCreate()"
   ]
  },
  {
   "cell_type": "code",
   "execution_count": 2,
   "id": "c9042f92",
   "metadata": {},
   "outputs": [
    {
     "name": "stderr",
     "output_type": "stream",
     "text": [
      "                                                                                \r"
     ]
    }
   ],
   "source": [
    "df_green = spark.read.parquet('data/pq/green/*/*')"
   ]
  },
  {
   "cell_type": "code",
   "execution_count": 3,
   "id": "58a783c0",
   "metadata": {
    "scrolled": true
   },
   "outputs": [
    {
     "data": {
      "text/plain": [
       "\"\\n    SELECT \\n        DATE_TRUNC('HOUR', lpep_pickup_datetime) AS hour, \\n        PULocationID AS zone,\\n        SUM(total_amount) AS amount,\\n        COUNT(*) AS number_records\\n    FROM green\\n    WHERE lpep_pickup_datetime >= '2020-01-01'\\n    GROUP BY 1,2\\n\""
      ]
     },
     "execution_count": 3,
     "metadata": {},
     "output_type": "execute_result"
    }
   ],
   "source": [
    "'''\n",
    "    SELECT \n",
    "        DATE_TRUNC('HOUR', lpep_pickup_datetime) AS hour, \n",
    "        PULocationID AS zone,\n",
    "        SUM(total_amount) AS amount,\n",
    "        COUNT(*) AS number_records\n",
    "    FROM green\n",
    "    WHERE lpep_pickup_datetime >= '2020-01-01'\n",
    "    GROUP BY 1,2\n",
    "'''"
   ]
  },
  {
   "cell_type": "code",
   "execution_count": 4,
   "id": "198ea194",
   "metadata": {
    "scrolled": true
   },
   "outputs": [
    {
     "name": "stderr",
     "output_type": "stream",
     "text": [
      "                                                                                \r"
     ]
    },
    {
     "data": {
      "text/plain": [
       "[Row(VendorID=2, lpep_pickup_datetime=datetime.datetime(2020, 1, 23, 13, 10, 15), lpep_dropoff_datetime=datetime.datetime(2020, 1, 23, 13, 38, 16), store_and_fwd_flag='N', RatecodeID=1, PULocationID=74, DOLocationID=130, passenger_count=1, trip_distance=12.77, fare_amount=36.0, extra=0.0, mta_tax=0.5, tip_amount=2.05, tolls_amount=6.12, ehail_fee=None, improvement_surcharge=0.3, total_amount=44.97, payment_type=1, trip_type=1, congestion_surcharge=0.0),\n",
       " Row(VendorID=None, lpep_pickup_datetime=datetime.datetime(2020, 1, 20, 15, 9), lpep_dropoff_datetime=datetime.datetime(2020, 1, 20, 15, 46), store_and_fwd_flag=None, RatecodeID=None, PULocationID=67, DOLocationID=39, passenger_count=None, trip_distance=8.0, fare_amount=29.9, extra=2.75, mta_tax=0.5, tip_amount=0.0, tolls_amount=0.0, ehail_fee=None, improvement_surcharge=0.3, total_amount=33.45, payment_type=None, trip_type=None, congestion_surcharge=None),\n",
       " Row(VendorID=2, lpep_pickup_datetime=datetime.datetime(2020, 1, 15, 20, 23, 41), lpep_dropoff_datetime=datetime.datetime(2020, 1, 15, 20, 31, 18), store_and_fwd_flag='N', RatecodeID=1, PULocationID=260, DOLocationID=157, passenger_count=1, trip_distance=1.27, fare_amount=7.0, extra=0.5, mta_tax=0.5, tip_amount=0.0, tolls_amount=0.0, ehail_fee=None, improvement_surcharge=0.3, total_amount=8.3, payment_type=2, trip_type=1, congestion_surcharge=0.0),\n",
       " Row(VendorID=2, lpep_pickup_datetime=datetime.datetime(2020, 1, 5, 16, 32, 26), lpep_dropoff_datetime=datetime.datetime(2020, 1, 5, 16, 40, 51), store_and_fwd_flag='N', RatecodeID=1, PULocationID=82, DOLocationID=83, passenger_count=1, trip_distance=1.25, fare_amount=7.5, extra=0.0, mta_tax=0.5, tip_amount=0.0, tolls_amount=0.0, ehail_fee=None, improvement_surcharge=0.3, total_amount=8.3, payment_type=2, trip_type=1, congestion_surcharge=0.0),\n",
       " Row(VendorID=2, lpep_pickup_datetime=datetime.datetime(2020, 1, 29, 19, 22, 42), lpep_dropoff_datetime=datetime.datetime(2020, 1, 29, 19, 31, 2), store_and_fwd_flag='N', RatecodeID=1, PULocationID=166, DOLocationID=42, passenger_count=1, trip_distance=1.84, fare_amount=8.0, extra=1.0, mta_tax=0.5, tip_amount=2.94, tolls_amount=0.0, ehail_fee=None, improvement_surcharge=0.3, total_amount=12.74, payment_type=1, trip_type=1, congestion_surcharge=0.0),\n",
       " Row(VendorID=2, lpep_pickup_datetime=datetime.datetime(2020, 1, 15, 11, 7, 42), lpep_dropoff_datetime=datetime.datetime(2020, 1, 15, 11, 11, 31), store_and_fwd_flag='N', RatecodeID=1, PULocationID=179, DOLocationID=223, passenger_count=2, trip_distance=0.76, fare_amount=5.0, extra=0.0, mta_tax=0.5, tip_amount=0.0, tolls_amount=0.0, ehail_fee=None, improvement_surcharge=0.3, total_amount=5.8, payment_type=2, trip_type=1, congestion_surcharge=0.0),\n",
       " Row(VendorID=2, lpep_pickup_datetime=datetime.datetime(2020, 1, 16, 8, 22, 29), lpep_dropoff_datetime=datetime.datetime(2020, 1, 16, 8, 50, 24), store_and_fwd_flag='N', RatecodeID=1, PULocationID=41, DOLocationID=237, passenger_count=1, trip_distance=3.32, fare_amount=18.5, extra=0.0, mta_tax=0.5, tip_amount=3.0, tolls_amount=0.0, ehail_fee=None, improvement_surcharge=0.3, total_amount=25.05, payment_type=1, trip_type=1, congestion_surcharge=2.75),\n",
       " Row(VendorID=2, lpep_pickup_datetime=datetime.datetime(2020, 1, 28, 17, 5, 28), lpep_dropoff_datetime=datetime.datetime(2020, 1, 28, 17, 26, 11), store_and_fwd_flag='N', RatecodeID=1, PULocationID=75, DOLocationID=161, passenger_count=1, trip_distance=2.21, fare_amount=14.0, extra=1.0, mta_tax=0.5, tip_amount=2.78, tolls_amount=0.0, ehail_fee=None, improvement_surcharge=0.3, total_amount=21.33, payment_type=1, trip_type=1, congestion_surcharge=2.75),\n",
       " Row(VendorID=1, lpep_pickup_datetime=datetime.datetime(2020, 1, 22, 14, 51, 37), lpep_dropoff_datetime=datetime.datetime(2020, 1, 22, 14, 57, 29), store_and_fwd_flag='N', RatecodeID=1, PULocationID=152, DOLocationID=166, passenger_count=1, trip_distance=0.9, fare_amount=6.0, extra=0.0, mta_tax=0.5, tip_amount=1.0, tolls_amount=0.0, ehail_fee=None, improvement_surcharge=0.3, total_amount=7.8, payment_type=1, trip_type=1, congestion_surcharge=0.0),\n",
       " Row(VendorID=2, lpep_pickup_datetime=datetime.datetime(2020, 1, 31, 10, 25, 4), lpep_dropoff_datetime=datetime.datetime(2020, 1, 31, 10, 52, 13), store_and_fwd_flag='N', RatecodeID=1, PULocationID=75, DOLocationID=234, passenger_count=1, trip_distance=6.1, fare_amount=22.5, extra=0.0, mta_tax=0.5, tip_amount=0.0, tolls_amount=0.0, ehail_fee=None, improvement_surcharge=0.3, total_amount=26.05, payment_type=2, trip_type=1, congestion_surcharge=2.75)]"
      ]
     },
     "execution_count": 4,
     "metadata": {},
     "output_type": "execute_result"
    }
   ],
   "source": [
    "# We will execute above statement with RDDs\n",
    "# rdd.take(10) will show first ten Row objects of an rdd\n",
    "df_green.rdd.take(10)"
   ]
  },
  {
   "cell_type": "code",
   "execution_count": 6,
   "id": "dd176a9a",
   "metadata": {},
   "outputs": [
    {
     "data": {
      "text/plain": [
       "[Row(lpep_pickup_datetime=datetime.datetime(2020, 1, 23, 13, 10, 15), PULocationID=74, total_amount=44.97),\n",
       " Row(lpep_pickup_datetime=datetime.datetime(2020, 1, 20, 15, 9), PULocationID=67, total_amount=33.45),\n",
       " Row(lpep_pickup_datetime=datetime.datetime(2020, 1, 15, 20, 23, 41), PULocationID=260, total_amount=8.3),\n",
       " Row(lpep_pickup_datetime=datetime.datetime(2020, 1, 5, 16, 32, 26), PULocationID=82, total_amount=8.3),\n",
       " Row(lpep_pickup_datetime=datetime.datetime(2020, 1, 29, 19, 22, 42), PULocationID=166, total_amount=12.74)]"
      ]
     },
     "execution_count": 6,
     "metadata": {},
     "output_type": "execute_result"
    }
   ],
   "source": [
    "# You can select specific fields from an RDD\n",
    "rdd = df_green \\\n",
    "    .select('lpep_pickup_datetime', 'PULocationID', 'total_amount') \\\n",
    "    .rdd\n",
    "\n",
    "rdd.take(5)"
   ]
  },
  {
   "cell_type": "code",
   "execution_count": 8,
   "id": "516de754",
   "metadata": {},
   "outputs": [
    {
     "name": "stderr",
     "output_type": "stream",
     "text": [
      "                                                                                \r"
     ]
    },
    {
     "data": {
      "text/plain": [
       "[Row(lpep_pickup_datetime=datetime.datetime(2021, 6, 18, 13, 31, 15), PULocationID=7, total_amount=3.3)]"
      ]
     },
     "execution_count": 8,
     "metadata": {},
     "output_type": "execute_result"
    }
   ],
   "source": [
    "# RDD can be filtered using lambda function or predefined function, WHERE statement essentially\n",
    "from datetime import datetime\n",
    "\n",
    "start = datetime(year=2021, month=1, day=1)\n",
    "rdd.filter(lambda row: row.lpep_pickup_datetime >= start).take(1)"
   ]
  },
  {
   "cell_type": "code",
   "execution_count": 9,
   "id": "6b2ed0c4",
   "metadata": {},
   "outputs": [
    {
     "name": "stderr",
     "output_type": "stream",
     "text": [
      "                                                                                \r"
     ]
    },
    {
     "data": {
      "text/plain": [
       "[((datetime.datetime(2021, 6, 18, 13, 0), 7), (3.3, 1)),\n",
       " ((datetime.datetime(2021, 6, 24, 22, 0), 41), (18.55, 1)),\n",
       " ((datetime.datetime(2021, 6, 29, 12, 0), 43), (7.55, 1)),\n",
       " ((datetime.datetime(2021, 6, 13, 11, 0), 134), (39.61, 1)),\n",
       " ((datetime.datetime(2021, 6, 27, 20, 0), 75), (19.3, 1)),\n",
       " ((datetime.datetime(2021, 6, 23, 19, 0), 22), (63.3, 1)),\n",
       " ((datetime.datetime(2021, 6, 12, 10, 0), 41), (16.31, 1)),\n",
       " ((datetime.datetime(2021, 6, 19, 15, 0), 41), (9.8, 1)),\n",
       " ((datetime.datetime(2021, 6, 12, 21, 0), 189), (26.83, 1)),\n",
       " ((datetime.datetime(2021, 6, 18, 19, 0), 41), (33.35, 1))]"
      ]
     },
     "execution_count": 9,
     "metadata": {},
     "output_type": "execute_result"
    }
   ],
   "source": [
    "# We can also use map() function on each row of RDD to apply some transformations\n",
    "# I will use a defined func to do this instead of a lambda\n",
    "\n",
    "def transform_row(row):\n",
    "    # truncate hour\n",
    "    hour = row.lpep_pickup_datetime.replace(minute=0,second=0,microsecond=0)\n",
    "    zone = row.PULocationID\n",
    "    key = (hour, zone)\n",
    "    \n",
    "    amount = row.total_amount\n",
    "    count = 1 # one row\n",
    "    value = (amount, count)\n",
    "    \n",
    "    return (key, value)\n",
    "\n",
    "rdd \\\n",
    "    .filter(lambda row: row.lpep_pickup_datetime >= start) \\\n",
    "    .map(transform_row) \\\n",
    "    .take(10)"
   ]
  },
  {
   "cell_type": "code",
   "execution_count": 12,
   "id": "e9fc99b4",
   "metadata": {},
   "outputs": [],
   "source": [
    "# First typle is a key (datetime, zone), second is the values (amount,count)\n",
    "# Now we wan to reduce these values into a single key using reduceKey(), so summing up amount and count \n",
    "# row by to adding previous_value to next_value\n",
    "\n",
    "def calculate_revenue(prev_value, next_value):\n",
    "    prev_amount, prev_count = prev_value\n",
    "    next_amount, next_count = next_value\n",
    "    \n",
    "    output_amount = prev_amount + next_amount\n",
    "    output_count = prev_count + next_count\n",
    "    output_value = (output_amount, output_count)\n",
    "    \n",
    "    return output_value"
   ]
  },
  {
   "cell_type": "code",
   "execution_count": 13,
   "id": "88ddd4ff",
   "metadata": {},
   "outputs": [
    {
     "name": "stderr",
     "output_type": "stream",
     "text": [
      "                                                                                \r"
     ]
    },
    {
     "data": {
      "text/plain": [
       "[((datetime.datetime(2021, 6, 24, 22, 0), 41), (122.05, 8)),\n",
       " ((datetime.datetime(2021, 6, 27, 20, 0), 75), (118.32, 7)),\n",
       " ((datetime.datetime(2021, 6, 23, 19, 0), 22), (63.3, 1)),\n",
       " ((datetime.datetime(2021, 6, 29, 12, 0), 24), (23.97, 2)),\n",
       " ((datetime.datetime(2021, 6, 18, 17, 0), 52), (90.79, 1)),\n",
       " ((datetime.datetime(2021, 6, 11, 14, 0), 167), (37.1, 2)),\n",
       " ((datetime.datetime(2021, 6, 7, 16, 0), 213), (44.3, 2)),\n",
       " ((datetime.datetime(2021, 6, 14, 21, 0), 93), (140.39999999999998, 3)),\n",
       " ((datetime.datetime(2021, 6, 18, 11, 0), 213), (67.66, 3)),\n",
       " ((datetime.datetime(2021, 6, 28, 9, 0), 197), (54.8, 1))]"
      ]
     },
     "execution_count": 13,
     "metadata": {},
     "output_type": "execute_result"
    }
   ],
   "source": [
    "rdd \\\n",
    "    .filter(lambda row: row.lpep_pickup_datetime >= start) \\\n",
    "    .map(transform_row) \\\n",
    "    .reduceByKey(calculate_revenue) \\\n",
    "    .take(10)"
   ]
  },
  {
   "cell_type": "code",
   "execution_count": 16,
   "id": "e499c46b",
   "metadata": {},
   "outputs": [
    {
     "name": "stderr",
     "output_type": "stream",
     "text": [
      "                                                                                \r"
     ]
    },
    {
     "name": "stdout",
     "output_type": "stream",
     "text": [
      "+-------------------+---+------------------+---+\n",
      "|                 _1| _2|                _3| _4|\n",
      "+-------------------+---+------------------+---+\n",
      "|2021-06-24 22:00:00| 41|            122.05|  8|\n",
      "|2021-06-27 20:00:00| 75|            118.32|  7|\n",
      "|2021-06-23 19:00:00| 22|              63.3|  1|\n",
      "|2021-06-29 12:00:00| 24|             23.97|  2|\n",
      "|2021-06-18 17:00:00| 52|             90.79|  1|\n",
      "|2021-06-11 14:00:00|167|              37.1|  2|\n",
      "|2021-06-07 16:00:00|213|              44.3|  2|\n",
      "|2021-06-14 21:00:00| 93|140.39999999999998|  3|\n",
      "|2021-06-18 11:00:00|213|             67.66|  3|\n",
      "|2021-06-28 09:00:00|197|              54.8|  1|\n",
      "|2021-06-01 11:00:00| 42|              83.4|  6|\n",
      "|2021-06-22 10:00:00| 17|             49.68|  2|\n",
      "|2021-06-17 07:00:00| 47|             46.68|  1|\n",
      "|2021-06-22 15:00:00|134|             59.62|  4|\n",
      "|2021-06-29 13:00:00|145|             27.85|  1|\n",
      "|2021-06-06 19:00:00| 74| 422.0400000000001| 29|\n",
      "|2021-06-08 12:00:00|116|17.900000000000002|  3|\n",
      "|2021-06-11 13:00:00| 43|            123.55|  5|\n",
      "|2021-06-22 05:00:00|238|             44.32|  1|\n",
      "|2021-06-25 07:00:00| 70|             40.75|  1|\n",
      "+-------------------+---+------------------+---+\n",
      "only showing top 20 rows\n",
      "\n"
     ]
    }
   ],
   "source": [
    "# This structure is unreadable because it's nested, we now want to unnest this list\n",
    "# and turn it back into a dataframe\n",
    "def unnest(row):\n",
    "    return (row[0][0], row[0][1], row[1][0], row[1][1]) # datetime, zone, amount, count\n",
    "\n",
    "rdd \\\n",
    "    .filter(lambda row: row.lpep_pickup_datetime >= start) \\\n",
    "    .map(transform_row) \\\n",
    "    .reduceByKey(calculate_revenue) \\\n",
    "    .map(unnest) \\\n",
    "    .toDF() \\\n",
    "    .show()"
   ]
  },
  {
   "cell_type": "code",
   "execution_count": 17,
   "id": "1f575359",
   "metadata": {},
   "outputs": [],
   "source": [
    "# Columns don't have names, we can fix it by adding a named tuple into unnest()\n",
    "from collections import namedtuple\n",
    "\n",
    "RevenueRow = namedtuple('RevenueRow', ['hour', 'zone', 'revenue', 'count'])\n",
    "\n",
    "def unnest(row):\n",
    "    return RevenueRow(hour=row[0][0],\n",
    "                      zone=row[0][1], \n",
    "                      revenue=row[1][0],\n",
    "                      count=row[1][1]\n",
    "                     )"
   ]
  },
  {
   "cell_type": "code",
   "execution_count": 18,
   "id": "73745ce6",
   "metadata": {},
   "outputs": [
    {
     "name": "stderr",
     "output_type": "stream",
     "text": [
      "                                                                                \r"
     ]
    },
    {
     "name": "stdout",
     "output_type": "stream",
     "text": [
      "+-------------------+----+------------------+-----+\n",
      "|               hour|zone|           revenue|count|\n",
      "+-------------------+----+------------------+-----+\n",
      "|2021-06-24 22:00:00|  41|            122.05|    8|\n",
      "|2021-06-27 20:00:00|  75|            118.32|    7|\n",
      "|2021-06-23 19:00:00|  22|              63.3|    1|\n",
      "|2021-06-29 12:00:00|  24|             23.97|    2|\n",
      "|2021-06-18 17:00:00|  52|             90.79|    1|\n",
      "|2021-06-11 14:00:00| 167|              37.1|    2|\n",
      "|2021-06-07 16:00:00| 213|              44.3|    2|\n",
      "|2021-06-14 21:00:00|  93|140.39999999999998|    3|\n",
      "|2021-06-18 11:00:00| 213|             67.66|    3|\n",
      "|2021-06-28 09:00:00| 197|              54.8|    1|\n",
      "|2021-06-01 11:00:00|  42|              83.4|    6|\n",
      "|2021-06-22 10:00:00|  17|             49.68|    2|\n",
      "|2021-06-17 07:00:00|  47|             46.68|    1|\n",
      "|2021-06-22 15:00:00| 134|             59.62|    4|\n",
      "|2021-06-29 13:00:00| 145|             27.85|    1|\n",
      "|2021-06-06 19:00:00|  74| 422.0400000000001|   29|\n",
      "|2021-06-08 12:00:00| 116|17.900000000000002|    3|\n",
      "|2021-06-11 13:00:00|  43|            123.55|    5|\n",
      "|2021-06-22 05:00:00| 238|             44.32|    1|\n",
      "|2021-06-25 07:00:00|  70|             40.75|    1|\n",
      "+-------------------+----+------------------+-----+\n",
      "only showing top 20 rows\n",
      "\n"
     ]
    }
   ],
   "source": [
    "rdd \\\n",
    "    .filter(lambda row: row.lpep_pickup_datetime >= start) \\\n",
    "    .map(transform_row) \\\n",
    "    .reduceByKey(calculate_revenue) \\\n",
    "    .map(unnest) \\\n",
    "    .toDF() \\\n",
    "    .show()"
   ]
  },
  {
   "cell_type": "code",
   "execution_count": null,
   "id": "3e1f8591",
   "metadata": {},
   "outputs": [],
   "source": []
  }
 ],
 "metadata": {
  "kernelspec": {
   "display_name": "Python 3 (ipykernel)",
   "language": "python",
   "name": "python3"
  },
  "language_info": {
   "codemirror_mode": {
    "name": "ipython",
    "version": 3
   },
   "file_extension": ".py",
   "mimetype": "text/x-python",
   "name": "python",
   "nbconvert_exporter": "python",
   "pygments_lexer": "ipython3",
   "version": "3.9.13"
  }
 },
 "nbformat": 4,
 "nbformat_minor": 5
}
